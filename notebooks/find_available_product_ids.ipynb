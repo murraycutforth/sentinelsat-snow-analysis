{
 "cells": [
  {
   "cell_type": "code",
   "execution_count": null,
   "id": "4692914d-a89e-4b38-b4ef-350885dfc190",
   "metadata": {},
   "outputs": [],
   "source": [
    "from sentinelsat import SentinelAPI \n",
    "import matplotlib.pyplot as plt\n",
    "user = \"murraycutforth\"\n",
    "password = \"6j6xRHZzAu8X\"\n",
    "api = SentinelAPI(user, password)"
   ]
  },
  {
   "cell_type": "code",
   "execution_count": null,
   "id": "df01b793-82a2-4ad4-a39d-04ba2ae0c7d0",
   "metadata": {
    "scrolled": true
   },
   "outputs": [],
   "source": [
    "# NOTE: for some reason (maybe a bug) the level 2A products do not appear when we specify a tile ID\n",
    "\n",
    "tile = \"30VVJ\"\n",
    "footprint = \"POLYGON ((-3.768020226138653 57.17530811654012,-4.044654037885955 57.02990526013852,-4.1918946151062935 56.874179380367366,-3.7367873764252484 56.81561433549041,-3.5761612921848798 56.688    40879227221,-3.214752602644049 56.671252057030955,-2.9113477768566853 56.75695761352293,-2.826572899063158 56.95942257301493,-2.7998018850230966 57.204320271402764,-3.397687865251137 57.33218492834706,-3.768020226138653 57.17530811654012))\"\n",
    "\n",
    "products = api.query(footprint,\n",
    "                     platformname=\"Sentinel-2\",\n",
    "                     #producttype=\"S2MSI2A\",\n",
    "                     cloudcoverpercentage=(0, 50),)\n",
    "\n",
    "all_products_df = api.to_dataframe(products)\n",
    "\n",
    "print(all_products_df.columns)\n",
    "\n",
    "all_products_df[[\"processinglevel\", \"producttype\", \"tileid\", \"generationdate\", \"ingestiondate\", \"cloudcoverpercentage\"]]\n",
    "\n",
    "\n"
   ]
  },
  {
   "cell_type": "code",
   "execution_count": null,
   "id": "1f16b1d0-266c-4abd-bf44-688142cc36a1",
   "metadata": {},
   "outputs": [],
   "source": [
    "# Filter to tile in post-processing - \"tileid\" value is not set for L2A products though...!\n",
    "\n",
    "products_df = all_products_df[all_products_df[\"title\"].str.contains(\"_T30VVJ_\")]\n"
   ]
  },
  {
   "cell_type": "code",
   "execution_count": null,
   "id": "4e2c6a60-0199-4002-b6a7-c9ffc1a828dc",
   "metadata": {},
   "outputs": [],
   "source": [
    "products_df[\"orbitdirection\"].value_counts()"
   ]
  },
  {
   "cell_type": "code",
   "execution_count": null,
   "id": "4f8835e9-cceb-48ba-a01b-d5561738fc3c",
   "metadata": {},
   "outputs": [],
   "source": [
    "products_df[\"instrumentname\"].value_counts()"
   ]
  },
  {
   "cell_type": "code",
   "execution_count": null,
   "id": "d78cf78b-24bf-4074-af2f-f492d4378d82",
   "metadata": {},
   "outputs": [],
   "source": [
    "products_df[\"producttype\"].value_counts()"
   ]
  },
  {
   "cell_type": "code",
   "execution_count": null,
   "id": "1a54eed8-2d3f-4a0f-8d2c-85a537874ed9",
   "metadata": {},
   "outputs": [],
   "source": [
    "products_df[\"tileid\"].value_counts()"
   ]
  },
  {
   "cell_type": "code",
   "execution_count": null,
   "id": "ba5dcd55-6e50-440b-970a-d4c05e00d790",
   "metadata": {},
   "outputs": [],
   "source": []
  },
  {
   "cell_type": "code",
   "execution_count": null,
   "id": "88dca462-c980-4ec9-bace-1d76bf99799c",
   "metadata": {},
   "outputs": [],
   "source": [
    "products_df.columns"
   ]
  },
  {
   "cell_type": "code",
   "execution_count": null,
   "id": "5d0f3370-aa24-4e34-8829-fd0bf1b51208",
   "metadata": {},
   "outputs": [],
   "source": [
    "products_df[[\"producttype\", \"datatakesensingstart\", \"generationdate\", \"ingestiondate\"]]"
   ]
  },
  {
   "cell_type": "code",
   "execution_count": null,
   "id": "8077c43b-e881-4a58-8a6c-84f5a5920563",
   "metadata": {},
   "outputs": [],
   "source": [
    "products_df[[\"producttype\", \"datatakesensingstart\", \"generationdate\", \"ingestiondate\"]].isna().sum()"
   ]
  },
  {
   "cell_type": "code",
   "execution_count": null,
   "id": "cd46e14e-1a7f-4a02-bd4c-7b79762e841e",
   "metadata": {},
   "outputs": [],
   "source": []
  },
  {
   "cell_type": "code",
   "execution_count": null,
   "id": "9dca2b47-4796-4952-b765-f832687b2a42",
   "metadata": {},
   "outputs": [],
   "source": []
  },
  {
   "cell_type": "code",
   "execution_count": null,
   "id": "665e4177-8e40-4dc5-b85e-03dabb8802f7",
   "metadata": {},
   "outputs": [],
   "source": [
    "start_date = products_df[\"ingestiondate\"].min()\n",
    "end_date = products_df[\"ingestiondate\"].max()\n",
    "num_months = max(0, (end_date.year - start_date.year - 1)) * 12 + end_date.month + 12 - start_date.month + 1\n",
    "hist_range = (start_date.to_period(\"M\").start_time, end_date.to_period(\"M\").end_time)\n",
    "\n",
    "fig, axs = plt.subplots(2, 1, figsize=(15, 10))\n",
    "\n",
    "colors = [\"violet\", \"darkviolet\", \"mediumpurple\", \"blue\", \"darkblue\"]\n",
    "alphas = [0.5, 0.6, 0.7, 0.8, 0.9]\n",
    "ccps = [50, 40, 30, 20, 10]\n",
    "\n",
    "\n",
    "# First plot 1C products\n",
    "df = products_df[products_df[\"producttype\"] == \"S2MSI1C\"]\n",
    "ax = axs[0]\n",
    "for i in range(5):\n",
    "    ax.hist(df[df[\"cloudcoverpercentage\"] <= ccps[i]][\"ingestiondate\"], bins=num_months, range=hist_range, alpha=alphas[i], color=colors[i], label=f\"cloud cover < {ccps[i]}%\")\n",
    "\n",
    "ax.legend()\n",
    "ax.grid(axis=\"x\")\n",
    "ax.set_xlabel(\"Date\")\n",
    "ax.set_ylabel(\"Frequency\")\n",
    "ax.set_ylim(0, 15)\n",
    "ax.set_title(\"Number of monthly Sentinel-2 Level 1C acquisitions\")\n",
    "\n",
    "\n",
    "\n",
    "# Next plot 2A products\n",
    "df = products_df[(products_df[\"producttype\"] == \"S2MSI2A\") | (products_df[\"producttype\"] == \"S2MSI2Ap\")]\n",
    "ax = axs[1]\n",
    "for i in range(5):\n",
    "    ax.hist(df[df[\"cloudcoverpercentage\"] <= ccps[i]][\"ingestiondate\"], bins=num_months, range=hist_range, alpha=alphas[i], color=colors[i], label=f\"cloud cover < {ccps[i]}%\")\n",
    "\n",
    "ax.legend()\n",
    "ax.grid(axis=\"x\")\n",
    "ax.set_xlabel(\"Date\")\n",
    "ax.set_ylim(0, 15)\n",
    "ax.set_ylabel(\"Frequency\")\n",
    "ax.set_title(\"Number of monthly Sentinel-2 Level 2A acquisitions\")\n",
    "\n",
    "\n",
    "\n",
    "plt.xticks(rotation=45)\n",
    "plt.tight_layout()\n",
    "plt.show()"
   ]
  },
  {
   "cell_type": "code",
   "execution_count": null,
   "id": "145c86e3-3bde-4455-9b79-730454741567",
   "metadata": {},
   "outputs": [],
   "source": []
  },
  {
   "cell_type": "code",
   "execution_count": null,
   "id": "e1f44caf-6d00-4c36-8cf9-bb8ec3275b6a",
   "metadata": {},
   "outputs": [],
   "source": [
    "products_2a_df = products_df[(products_df[\"producttype\"] == \"S2MSI2A\") | (products_df[\"producttype\"] == \"S2MSI2Ap\")]"
   ]
  },
  {
   "cell_type": "code",
   "execution_count": null,
   "id": "866bb286-2737-48ed-a1dc-9007968ab5f0",
   "metadata": {},
   "outputs": [],
   "source": [
    "products_2a_df"
   ]
  },
  {
   "cell_type": "code",
   "execution_count": null,
   "id": "723090a7-5515-4654-9705-aa97b9c4c7e6",
   "metadata": {},
   "outputs": [],
   "source": [
    "products_2a_df.to_csv(\"s2_T30VVJ_MSI2A_under50cloud.csv\")"
   ]
  },
  {
   "cell_type": "code",
   "execution_count": null,
   "id": "3ecc9133-5dc3-41e7-b429-8c6ca4dc24c5",
   "metadata": {},
   "outputs": [],
   "source": []
  },
  {
   "cell_type": "code",
   "execution_count": null,
   "id": "b40a46b6-0165-4bf3-a740-6a2d02bedfa8",
   "metadata": {},
   "outputs": [],
   "source": []
  },
  {
   "cell_type": "code",
   "execution_count": null,
   "id": "cc357db4-f0c2-4a36-be76-4a095dbb8c54",
   "metadata": {},
   "outputs": [],
   "source": []
  }
 ],
 "metadata": {
  "kernelspec": {
   "display_name": "Python 3 (ipykernel)",
   "language": "python",
   "name": "python3"
  },
  "language_info": {
   "codemirror_mode": {
    "name": "ipython",
    "version": 3
   },
   "file_extension": ".py",
   "mimetype": "text/x-python",
   "name": "python",
   "nbconvert_exporter": "python",
   "pygments_lexer": "ipython3",
   "version": "3.9.16"
  }
 },
 "nbformat": 4,
 "nbformat_minor": 5
}
